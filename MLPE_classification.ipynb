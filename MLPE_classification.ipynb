{
 "cells": [
  {
   "cell_type": "code",
   "execution_count": 2,
   "metadata": {},
   "outputs": [],
   "source": [
    "import pandas as pd\n",
    "import numpy as np\n",
    "import matplotlib.pyplot as plt \n",
    "import seaborn as sns\n",
    "from sklearn.model_selection import train_test_split\n",
    "from rich.progress import track\n",
    "from sklearn.metrics import accuracy_score, roc_auc_score, average_precision_score, precision_score, recall_score, mean_squared_error\n",
    "from sklearn.utils.validation import check_X_y, check_array, check_is_fitted\n",
    "import scipy.stats"
   ]
  },
  {
   "cell_type": "markdown",
   "metadata": {},
   "source": [
    "## Multilayer Perceptron for classification"
   ]
  },
  {
   "cell_type": "code",
   "execution_count": 3,
   "metadata": {},
   "outputs": [],
   "source": [
    "data2 = pd.read_csv('data/Part 2.tsv', sep='\\t')\n",
    "X = data2.loc[:, data2.columns != 'target'].values\n",
    "y = data2['target'].values\n",
    "\n",
    "X_train, X_test, y_train, y_test = train_test_split(X, y, test_size=0.3, random_state=0)"
   ]
  },
  {
   "cell_type": "code",
   "execution_count": 4,
   "metadata": {},
   "outputs": [],
   "source": [
    "def sigmoid(Z):\n",
    "    return 1.0 / (1.0 + np.exp(-Z))\n",
    "\n",
    "def sigmoid_derivative(output):\n",
    "    return output * (1.0 - output)\n",
    "\n",
    "def cost_function(y, y_hat):\n",
    "    return -np.sum(y*(np.log(y_hat)) + (1 - y)*np.log(1 - y_hat)) / y.shape[0]\n",
    "\n",
    "def cost_gradient(y, y_hat):\n",
    "    return -np.divide(y, y_hat) + np.divide(1.0 - y, 1.0 - y_hat)"
   ]
  },
  {
   "cell_type": "code",
   "execution_count": 5,
   "metadata": {},
   "outputs": [],
   "source": [
    "class MultilayerPerceptron2Classification():\n",
    "    \"\"\"\n",
    "    Implements a Multilayer Perceptron with n hidden layers\n",
    "    for classification\n",
    "    Each hidden layers must have a bias unit\n",
    "    Use mini-batch gradient descent to update the weights\n",
    "    Parameters:\n",
    "    -----------\n",
    "    learning_rate: A float number that determines the learning rate used for\n",
    "updating the weights on the update step of the gradient descent.\n",
    "    batch_size: An integer that determines the number of datapoints that\n",
    "are included in each mini-batch\n",
    "    epochs: An integer that determines the number of times the training\n",
    "goes through all the datapoints\n",
    "    hidden_layers: A list of integers that determines the number of nodes in\n",
    "each hidden layer\n",
    "    \"\"\"\n",
    "    def __init__(self, learning_rate=0.001, batch_size=10, epochs=1000, hidden_layers=[50, 50, 50, 50, 50]):\n",
    "        self.learning_rate = learning_rate\n",
    "        self.batch_size = batch_size\n",
    "        self.epochs = epochs\n",
    "        self.hidden_layers_size = hidden_layers\n",
    "        self.training_losses = np.zeros(self.epochs)\n",
    "        self.layers_size = []\n",
    "        self.weights = []\n",
    "        self.As = []\n",
    "        self.Zs = []\n",
    "        self.Z = []\n",
    "        self.D = []\n",
    "    def initialize_weights(self, n_features):\n",
    "        \"\"\"\n",
    "        Initialize the weights of the neural network\n",
    "        Parameters:\n",
    "        -----------\n",
    "        n_features: An integer that determines the number of features in the\n",
    "dataset\n",
    "        \"\"\"\n",
    "        self.layers_size = [n_features] + self.hidden_layers_size + [self.output_layer_size]\n",
    "        self.weights = [np.random.randn(x+1, y) for x, y in zip(self.layers_size, self.layers_size[1:])]\n",
    "\n",
    "    def forward(self, X):\n",
    "        \"\"\"\n",
    "        Calculate the forward propagation of the neural network\n",
    "        Parameters:\n",
    "        -----------\n",
    "        X: A numpy array of shape (n_samples, n_features) that contains the\n",
    "datapoints\n",
    "        \"\"\"\n",
    "        self.As = []\n",
    "        self.Zs = []\n",
    "        Z = X \n",
    "        A = sigmoid(Z)\n",
    "        n, _ = A.shape\n",
    "        A = np.c_[np.ones((n, 1)), A]\n",
    "        self.As.append(A)\n",
    "        self.Zs.append(Z)\n",
    "\n",
    "        Z = X @ self.weights[0]\n",
    "        A = sigmoid(Z)\n",
    "        n, _ = A.shape\n",
    "        A = np.c_[np.ones((n, 1)), A]\n",
    "        self.As.append(A)\n",
    "        self.Zs.append(Z)\n",
    "        \n",
    "        for i in range(1, len(self.weights)-1):\n",
    "            Z = A @ self.weights[i]\n",
    "            A = sigmoid(Z)\n",
    "            n, _ = A.shape\n",
    "            A = np.c_[np.ones((n, 1)), A]\n",
    "            self.As.append(A)\n",
    "            self.Zs.append(Z)\n",
    "        Z = A @ self.weights[-1]\n",
    "        A = sigmoid(Z)\n",
    "        self.As.append(A)\n",
    "        self.Zs.append(Z)\n",
    "        return A\n",
    "    def backward(self, X, y):\n",
    "        \"\"\"\n",
    "        Calculate the backward propagation of the neural network\n",
    "        Parameters:\n",
    "        -----------\n",
    "        X: A numpy array of shape (n_samples, n_features) that contains the\n",
    "datapoints\n",
    "        y: A numpy array of shape (n_samples, 1) that contains the target\n",
    "values\n",
    "        \"\"\"\n",
    "        #check if adding a=input\n",
    "        # last layer backprop (now with activation function)\n",
    "        dWs = []\n",
    "        dA = cost_gradient(y, self.As[-1])\n",
    "        dZ = dA * sigmoid_derivative(sigmoid(self.Zs[-1]))\n",
    "        dW = self.As[-2].T @ dZ\n",
    "        dWs.append(dW)\n",
    "        # hidden layers backprop\n",
    "        for i in range(len(self.weights)-2, 0, -1):\n",
    "            dA = dZ @ self.weights[i+1][1:, :].T\n",
    "            dZ = dA * sigmoid_derivative(sigmoid(self.Zs[i+1]))\n",
    "            dW = self.As[i].T @ dZ\n",
    "            dWs.append(dW)\n",
    "        # first layer backprop\n",
    "        dA = dZ @ self.weights[1][1:, :].T\n",
    "        dZ = dA * sigmoid_derivative(sigmoid(self.Zs[1]))\n",
    "        dW = X.T @ dZ\n",
    "        dWs.append(dW)\n",
    "        dWs.reverse()\n",
    "        return dWs\n",
    "\n",
    "    def update_weights(self, dWs):\n",
    "        \"\"\"\n",
    "        Update the weights of the neural network\n",
    "        Parameters:\n",
    "        -----------\n",
    "        dWs: A list of numpy arrays that contains the derivatives of the\n",
    "weights\n",
    "        \"\"\"\n",
    "        for i in range(len(self.weights)):\n",
    "            self.weights[i] -= self.learning_rate * dWs[i]\n",
    "    def fit(self, X, y):\n",
    "        \"\"\"\n",
    "        Fit the neural network to the training data\n",
    "        Parameters:\n",
    "        -----------\n",
    "        X: A numpy array of shape (n_samples, n_features) that contains the\n",
    "datapoints\n",
    "        y: A numpy array of shape (n_samples, 1) that contains the target\n",
    "values\n",
    "        \"\"\"\n",
    "        X, y = check_X_y(X, y)\n",
    "        n, m = X.shape\n",
    "        _X = np.c_[np.ones((n, 1)), X]\n",
    "        _y = y[:, np.newaxis]\n",
    "        try:\n",
    "            self.output_layer_size = y.shape[1]\n",
    "        except IndexError:\n",
    "            self.output_layer_size = 1\n",
    "    \n",
    "        self.initialize_weights(m)\n",
    "\n",
    "        n_batches = int(n + self.batch_size - 1) // self.batch_size\n",
    "\n",
    "        for epoch in range(self.epochs):\n",
    "            for b in range(n_batches):\n",
    "                X_batch = _X[b*self.batch_size:(b+1)*self.batch_size]\n",
    "                y_batch = _y[b*self.batch_size:(b+1)*self.batch_size]\n",
    "                y_pred = self.forward(X_batch)\n",
    "                dWs = self.backward(X_batch, y_batch)\n",
    "                self.update_weights(dWs)\n",
    "            y_pred = self.forward(_X)\n",
    "            self.training_losses[epoch] = cost_function(_y, y_pred)\n",
    "        self.fitted_ = True\n",
    "    def predict(self, X):\n",
    "        \"\"\"\n",
    "        Predict the target values of the datapoints\n",
    "        Parameters:\n",
    "        -----------\n",
    "        X: A numpy array of shape (n_samples, n_features) that contains the\n",
    "datapoints\n",
    "        \"\"\"\n",
    "        return self.predict_proba(X).argmax(axis=1)\n",
    "    \n",
    "    def predict_proba(self, X):\n",
    "        check_is_fitted(self)\n",
    "        \n",
    "        X = check_array(X)\n",
    "        n, m = X.shape\n",
    "        _X = np.c_[np.ones((n, 1)), X]\n",
    "        \n",
    "        pred_1 = self.forward(_X)\n",
    "        pred_0 = 1 - pred_1\n",
    "        return np.c_[pred_0, pred_1]"
   ]
  },
  {
   "cell_type": "code",
   "execution_count": 6,
   "metadata": {},
   "outputs": [],
   "source": [
    "model2 = MultilayerPerceptron2Classification(learning_rate=0.0001, batch_size=32, epochs=100, hidden_layers=[4, 4, 4, 4])\n",
    "model2.fit(X_train, y_train)\n",
    "y_pred = model2.predict(X_test)"
   ]
  },
  {
   "cell_type": "code",
   "execution_count": null,
   "metadata": {},
   "outputs": [
    {
     "name": "stdout",
     "output_type": "stream",
     "text": [
      "Accuracy: 0.829\n",
      "AUC-PR: 0.7675214069834307\n",
      "AUC-ROC: 0.8289214501080897\n"
     ]
    }
   ],
   "source": [
    "accuracy = accuracy_score(y_test, y_pred)\n",
    "auc_pr = average_precision_score(y_test, y_pred)\n",
    "auc_roc = roc_auc_score(y_test, y_pred)\n",
    "print(\"Accuracy:\", accuracy)\n",
    "print(\"AUC-PR:\", auc_pr)\n",
    "print(\"AUC-ROC:\", auc_roc)"
   ]
  },
  {
   "cell_type": "code",
   "execution_count": null,
   "metadata": {},
   "outputs": [
    {
     "data": {
      "image/png": "[encoded data removed]",
      "text/plain": [
       "<Figure size 720x720 with 1 Axes>"
      ]
     },
     "metadata": {},
     "output_type": "display_data"
    }
   ],
   "source": [
    "fig, ax = plt.subplots(figsize=(10,10))\n",
    "ax.plot(model2.training_losses)\n",
    "plt.show()\n",
    "plt.close(\"all\")"
   ]
  },
  {
   "cell_type": "code",
   "execution_count": null,
   "metadata": {},
   "outputs": [
    {
     "name": "stdout",
     "output_type": "stream",
     "text": [
      "[[1196  300]\n",
      " [ 213 1291]]\n"
     ]
    }
   ],
   "source": [
    "from sklearn.metrics import confusion_matrix\n",
    "cm = confusion_matrix(y_test, y_pred)\n",
    "print(cm)"
   ]
  },
  {
   "cell_type": "code",
   "execution_count": null,
   "metadata": {},
   "outputs": [
    {
     "name": "stdout",
     "output_type": "stream",
     "text": [
      "[[1196  300]\n",
      " [ 213 1291]]\n"
     ]
    }
   ],
   "source": [
    "from sklearn.metrics import confusion_matrix\n",
    "cm = confusion_matrix(y_test, y_pred)\n",
    "print(cm)"
   ]
  }
 ],
 "metadata": {
  "kernelspec": {
   "display_name": "Python 3.8.10 64-bit",
   "language": "python",
   "name": "python3"
  },
  "language_info": {
   "codemirror_mode": {
    "name": "ipython",
    "version": 3
   },
   "file_extension": ".py",
   "mimetype": "text/x-python",
   "name": "python",
   "nbconvert_exporter": "python",
   "pygments_lexer": "ipython3",
   "version": "3.8.10"
  },
  "orig_nbformat": 4,
  "vscode": {
   "interpreter": {
    "hash": "916dbcbb3f70747c44a77c7bcd40155683ae19c65e1c03b4aa3499c5328201f1"
   }
  }
 },
 "nbformat": 4,
 "nbformat_minor": 2
}
